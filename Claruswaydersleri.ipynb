{
  "nbformat": 4,
  "nbformat_minor": 0,
  "metadata": {
    "colab": {
      "name": "Claruswaydersleri.ipynb",
      "provenance": [],
      "authorship_tag": "ABX9TyNuTMWgyL+9Oh5z9WQhgrwB",
      "include_colab_link": true
    },
    "kernelspec": {
      "name": "python3",
      "display_name": "Python 3"
    },
    "language_info": {
      "name": "python"
    }
  },
  "cells": [
    {
      "cell_type": "markdown",
      "metadata": {
        "id": "view-in-github",
        "colab_type": "text"
      },
      "source": [
        "<a href=\"https://colab.research.google.com/github/EmrePrlk/EmrePrlk/blob/main/Claruswaydersleri.ipynb\" target=\"_parent\"><img src=\"https://colab.research.google.com/assets/colab-badge.svg\" alt=\"Open In Colab\"/></a>"
      ]
    },
    {
      "cell_type": "code",
      "metadata": {
        "colab": {
          "base_uri": "https://localhost:8080/"
        },
        "id": "d8fsylIE4EmU",
        "outputId": "0fae4861-2f6b-4d38-ff7b-7aef3f623996"
      },
      "source": [
        "print(''''We should have enough time for our family\"''')"
      ],
      "execution_count": null,
      "outputs": [
        {
          "output_type": "stream",
          "name": "stdout",
          "text": [
            "'We should have enough time for our family\"\n"
          ]
        }
      ]
    },
    {
      "cell_type": "code",
      "metadata": {
        "colab": {
          "base_uri": "https://localhost:8080/"
        },
        "id": "jUQ2rgbaHXhz",
        "outputId": "f768a62a-e974-4e32-c762-17a0c2c5cb59"
      },
      "source": [
        "a = 36.5\n",
        "b = '30'\n",
        "c = '3.5'\n",
        "d = 'F is enough for room temperature.'\n",
        "\n",
        "print(str(a+int(b)+float(c))+d)\n",
        "\n",
        "\n"
      ],
      "execution_count": null,
      "outputs": [
        {
          "output_type": "stream",
          "name": "stdout",
          "text": [
            "70.0F is enough for room temperature.\n"
          ]
        }
      ]
    },
    {
      "cell_type": "code",
      "metadata": {
        "id": "x57ZYkxbQIg9"
      },
      "source": [
        "a = 10\n",
        "b = 3\n",
        "c = 1985\n",
        "age = 36\n"
      ],
      "execution_count": null,
      "outputs": []
    },
    {
      "cell_type": "code",
      "metadata": {
        "colab": {
          "base_uri": "https://localhost:8080/"
        },
        "id": "QTkIuWKki72j",
        "outputId": "645a49a9-06ed-4154-f699-12c65ced19cd"
      },
      "source": [
        "print(\"5\" + \"1\")\n"
      ],
      "execution_count": null,
      "outputs": [
        {
          "output_type": "stream",
          "name": "stdout",
          "text": [
            "51\n"
          ]
        }
      ]
    },
    {
      "cell_type": "code",
      "metadata": {
        "colab": {
          "base_uri": "https://localhost:8080/"
        },
        "id": "PuT5I-kYi7ry",
        "outputId": "0c6575cb-50d9-474e-b05d-b71f8af8f026"
      },
      "source": [
        "type(14)\n"
      ],
      "execution_count": null,
      "outputs": [
        {
          "output_type": "execute_result",
          "data": {
            "text/plain": [
              "int"
            ]
          },
          "metadata": {},
          "execution_count": 11
        }
      ]
    },
    {
      "cell_type": "code",
      "metadata": {
        "colab": {
          "base_uri": "https://localhost:8080/"
        },
        "id": "eh3A-WY0i7gK",
        "outputId": "429eb186-c161-4fa9-b81a-cd864432278b"
      },
      "source": [
        "number_int = 123\n",
        "number_str = \"456\"\n",
        "\n",
        "print(\"Data type of number_int:\", type(number_int))\n",
        "print(\"Data type of number_str before Type Casting:\", type(number_str))\n",
        "\n",
        "number_str = int(number_str)\n",
        "print(\"Data type of number_str after Type Casting:\", type(number_str))\n",
        "\n",
        "number_sum = number_int + number_str\n",
        "print(\"Sum of number_int and number_str:\", number_sum)\n",
        "print(\"Data type of the sum:\", type(number_sum))"
      ],
      "execution_count": null,
      "outputs": [
        {
          "output_type": "stream",
          "name": "stdout",
          "text": [
            "Data type of number_int: <class 'int'>\n",
            "Data type of number_str before Type Casting: <class 'str'>\n",
            "Data type of number_str after Type Casting: <class 'int'>\n",
            "Sum of number_int and number_str: 579\n",
            "Data type of the sum: <class 'int'>\n"
          ]
        }
      ]
    },
    {
      "cell_type": "markdown",
      "metadata": {
        "id": "P1BK4_qPU6q8"
      },
      "source": [
        ""
      ]
    },
    {
      "cell_type": "code",
      "metadata": {
        "id": "e78Crz4Wi7Vz",
        "colab": {
          "base_uri": "https://localhost:8080/"
        },
        "outputId": "94c2688f-14bd-4ec9-f78c-22081db65fae"
      },
      "source": [
        "mycoin = 1000.0\n",
        "time = 7.0\n",
        "profit = 0.07\n",
        "\n",
        "# formula is v(1+p)**t\n",
        "\n",
        "mycoin*(float(1)+profit)**time"
      ],
      "execution_count": 6,
      "outputs": [
        {
          "output_type": "execute_result",
          "data": {
            "text/plain": [
              "1605.7814764784307"
            ]
          },
          "metadata": {},
          "execution_count": 6
        }
      ]
    },
    {
      "cell_type": "code",
      "metadata": {
        "id": "ePwvQJ8Yi7Lz"
      },
      "source": [
        "a = 36.5\n",
        "b = '30'\n",
        "c = '3.5'\n",
        "d = 'F is enough for room temperature.'\n",
        "\n",
        "print(str(a+int(b)+float(c))+d)\n"
      ],
      "execution_count": null,
      "outputs": []
    },
    {
      "cell_type": "code",
      "metadata": {
        "id": "BdxCgaevi6uD",
        "colab": {
          "base_uri": "https://localhost:8080/"
        },
        "outputId": "7fe1148b-d492-40ed-8de6-790b5d6fb718"
      },
      "source": [
        "23%5 \n",
        "23//5"
      ],
      "execution_count": 9,
      "outputs": [
        {
          "output_type": "execute_result",
          "data": {
            "text/plain": [
              "4"
            ]
          },
          "metadata": {},
          "execution_count": 9
        }
      ]
    },
    {
      "cell_type": "code",
      "metadata": {
        "colab": {
          "base_uri": "https://localhost:8080/"
        },
        "id": "uuk3lWQouBiI",
        "outputId": "234809b0-6f15-4eb2-e573-fbb0096e2e79"
      },
      "source": [
        "81-55"
      ],
      "execution_count": 31,
      "outputs": [
        {
          "output_type": "execute_result",
          "data": {
            "text/plain": [
              "26"
            ]
          },
          "metadata": {},
          "execution_count": 31
        }
      ]
    },
    {
      "cell_type": "code",
      "metadata": {
        "colab": {
          "base_uri": "https://localhost:8080/"
        },
        "id": "I61_3LXsuCH6",
        "outputId": "4d552a59-611c-49a7-f1c2-6063e48cc590"
      },
      "source": [
        "3.14*(5**2)"
      ],
      "execution_count": 32,
      "outputs": [
        {
          "output_type": "execute_result",
          "data": {
            "text/plain": [
              "78.5"
            ]
          },
          "metadata": {},
          "execution_count": 32
        }
      ]
    },
    {
      "cell_type": "code",
      "metadata": {
        "id": "_cs3R-FiuCTL"
      },
      "source": [
        "x = 2\n",
        "x +=3\n",
        "\n",
        "x *= 5"
      ],
      "execution_count": 33,
      "outputs": []
    },
    {
      "cell_type": "code",
      "metadata": {
        "colab": {
          "base_uri": "https://localhost:8080/"
        },
        "id": "EAU443dFuCi8",
        "outputId": "5a840397-9ae2-439e-e364-c1b95414f66e"
      },
      "source": [
        "print((1+3) ** (2 ** (1 * 2 / 2) /2))"
      ],
      "execution_count": 37,
      "outputs": [
        {
          "output_type": "stream",
          "name": "stdout",
          "text": [
            "4.0\n"
          ]
        }
      ]
    },
    {
      "cell_type": "code",
      "metadata": {
        "colab": {
          "base_uri": "https://localhost:8080/"
        },
        "id": "W2BLQ8087y3D",
        "outputId": "38425700-dd25-4382-abf2-ce03937e075f"
      },
      "source": [
        "a = 3\n",
        "b = 4 \n",
        "\n",
        "c = (a**2 + b**2)**0.5\n",
        "c"
      ],
      "execution_count": 41,
      "outputs": [
        {
          "output_type": "execute_result",
          "data": {
            "text/plain": [
              "5.0"
            ]
          },
          "metadata": {},
          "execution_count": 41
        }
      ]
    },
    {
      "cell_type": "code",
      "metadata": {
        "colab": {
          "base_uri": "https://localhost:8080/"
        },
        "id": "7VeTTBQ09Rgk",
        "outputId": "48254dd6-f505-48f1-dc42-7807ffc84249"
      },
      "source": [
        "number = 2021\n",
        "text = \"we have reached\"\n",
        "print(text, number)"
      ],
      "execution_count": 42,
      "outputs": [
        {
          "output_type": "stream",
          "name": "stdout",
          "text": [
            "we have reached 2021\n"
          ]
        }
      ]
    },
    {
      "cell_type": "code",
      "metadata": {
        "colab": {
          "base_uri": "https://localhost:8080/"
        },
        "id": "Qz2S_zs59RsR",
        "outputId": "27853506-1641-4b58-c4c9-5b91886bd198"
      },
      "source": [
        "print(\"Ali\", \"aslı\")\n",
        "print(\"Veli\", \"ayşe\")\n",
        "print(\"selvi\", \"baharat\", 44, number, mycoin, sep = \"   \")\n",
        "print(c, False, \"ahmet\", 3.14, sep =\"-\")"
      ],
      "execution_count": 51,
      "outputs": [
        {
          "output_type": "stream",
          "name": "stdout",
          "text": [
            "Ali aslı\n",
            "Veli ayşe\n",
            "selvi   baharat   44   2021   1000.0\n",
            "5.0-False-ahmet-3.14\n"
          ]
        }
      ]
    },
    {
      "cell_type": "code",
      "metadata": {
        "colab": {
          "base_uri": "https://localhost:8080/"
        },
        "id": "L11q99UOASla",
        "outputId": "5d5b35da-2b62-4410-e2b6-bcaf25a697b1"
      },
      "source": [
        "print(\"ali\", end = \" \")\n",
        "print(\"veli\", \"ayşe\")"
      ],
      "execution_count": 53,
      "outputs": [
        {
          "output_type": "stream",
          "name": "stdout",
          "text": [
            "ali veli ayşe\n"
          ]
        }
      ]
    },
    {
      "cell_type": "code",
      "metadata": {
        "colab": {
          "base_uri": "https://localhost:8080/"
        },
        "id": "8RxrMZhzBRy3",
        "outputId": "6cc2078c-6f99-4a9b-c876-e787008b5ebe"
      },
      "source": [
        "text1 = \"I bought\"\n",
        "text2 = \"kg. of apple this morning\"\n",
        "amount = 6\n",
        "text3 = text1 + \" \" + str(amount) + \" \" + text2\n",
        "print(text1, amount, text2)\n",
        "print(\"I bought\", 6, \"kg. of apple this morning\")\n",
        "print(\"I bought \" + \"6 \" + \"kg. of apple this morning\")\n",
        "print(text3)"
      ],
      "execution_count": 54,
      "outputs": [
        {
          "output_type": "stream",
          "name": "stdout",
          "text": [
            "I bought 6 kg. of apple this morning\n",
            "I bought 6 kg. of apple this morning\n",
            "I bought 6 kg. of apple this morning\n",
            "I bought 6 kg. of apple this morning\n"
          ]
        }
      ]
    },
    {
      "cell_type": "code",
      "metadata": {
        "colab": {
          "base_uri": "https://localhost:8080/"
        },
        "id": "lXaP4B6iH2cq",
        "outputId": "9dcebb68-f1bd-4840-aa4a-32ddd7be757c"
      },
      "source": [
        "print('kul ahmet\\'in ceketi')"
      ],
      "execution_count": 58,
      "outputs": [
        {
          "output_type": "stream",
          "name": "stdout",
          "text": [
            "kul ahmet'in ceketi\n"
          ]
        }
      ]
    },
    {
      "cell_type": "code",
      "metadata": {
        "colab": {
          "base_uri": "https://localhost:8080/"
        },
        "id": "5P2jief3ICOq",
        "outputId": "487841a5-969f-47d3-fd7d-1c5ade7ccbac"
      },
      "source": [
        "print('kul ahmet\\in ceketi')"
      ],
      "execution_count": 60,
      "outputs": [
        {
          "output_type": "stream",
          "name": "stdout",
          "text": [
            "kul ahmet\\in ceketi\n"
          ]
        }
      ]
    },
    {
      "cell_type": "code",
      "metadata": {
        "colab": {
          "base_uri": "https://localhost:8080/"
        },
        "id": "r2paTWrJIR3k",
        "outputId": "1c5e9960-d287-4c45-faca-929fa731f48b"
      },
      "source": [
        "print('ayla\\\\nın çantası')"
      ],
      "execution_count": 62,
      "outputs": [
        {
          "output_type": "stream",
          "name": "stdout",
          "text": [
            "ayla\\nın çantası\n"
          ]
        }
      ]
    },
    {
      "cell_type": "code",
      "metadata": {
        "colab": {
          "base_uri": "https://localhost:8080/"
        },
        "id": "H_3OJqkLIjS-",
        "outputId": "7afc94b1-c5b0-4eed-ee9f-bd8d4b0933d3"
      },
      "source": [
        "print('--------')"
      ],
      "execution_count": 63,
      "outputs": [
        {
          "output_type": "stream",
          "name": "stdout",
          "text": [
            "--------\n"
          ]
        }
      ]
    },
    {
      "cell_type": "code",
      "metadata": {
        "colab": {
          "base_uri": "https://localhost:8080/"
        },
        "id": "3ceKv3dzJDRe",
        "outputId": "35099a09-694c-4294-e64b-3d5968c4272f"
      },
      "source": [
        "text = \"Clarusway, Clarusway, Clarusway, \\n \\t Clarusway, Clarusway, Clarusway, \\n \\t \\t Clarusway, Clarusway, Clarusway\"\n",
        "\n",
        "print(text)"
      ],
      "execution_count": 67,
      "outputs": [
        {
          "output_type": "stream",
          "name": "stdout",
          "text": [
            "Clarusway, Clarusway, Clarusway, \n",
            " \t Clarusway, Clarusway, Clarusway, \n",
            " \t \t Clarusway, Clarusway, Clarusway\n"
          ]
        }
      ]
    }
  ]
}