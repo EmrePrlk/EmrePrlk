{
  "nbformat": 4,
  "nbformat_minor": 0,
  "metadata": {
    "colab": {
      "name": "Claruswaydersleri.ipynb adlı not defterinin kopyası",
      "provenance": [],
      "authorship_tag": "ABX9TyM6Az0k/iXsk157aLCIs05H",
      "include_colab_link": true
    },
    "kernelspec": {
      "name": "python3",
      "display_name": "Python 3"
    },
    "language_info": {
      "name": "python"
    }
  },
  "cells": [
    {
      "cell_type": "markdown",
      "metadata": {
        "id": "view-in-github",
        "colab_type": "text"
      },
      "source": [
        "<a href=\"https://colab.research.google.com/github/EmrePrlk/EmrePrlk/blob/main/Claruswaydersleri_ipynb_adl%C4%B1_not_defterinin_kopyas%C4%B1.ipynb\" target=\"_parent\"><img src=\"https://colab.research.google.com/assets/colab-badge.svg\" alt=\"Open In Colab\"/></a>"
      ]
    },
    {
      "cell_type": "code",
      "metadata": {
        "colab": {
          "base_uri": "https://localhost:8080/"
        },
        "id": "d8fsylIE4EmU",
        "outputId": "0fae4861-2f6b-4d38-ff7b-7aef3f623996"
      },
      "source": [
        "print(''''We should have enough time for our family\"''')"
      ],
      "execution_count": null,
      "outputs": [
        {
          "output_type": "stream",
          "name": "stdout",
          "text": [
            "'We should have enough time for our family\"\n"
          ]
        }
      ]
    },
    {
      "cell_type": "code",
      "metadata": {
        "colab": {
          "base_uri": "https://localhost:8080/"
        },
        "id": "jUQ2rgbaHXhz",
        "outputId": "f768a62a-e974-4e32-c762-17a0c2c5cb59"
      },
      "source": [
        "a = 36.5\n",
        "b = '30'\n",
        "c = '3.5'\n",
        "d = 'F is enough for room temperature.'\n",
        "\n",
        "print(str(a+int(b)+float(c))+d)\n",
        "\n",
        "\n"
      ],
      "execution_count": null,
      "outputs": [
        {
          "output_type": "stream",
          "name": "stdout",
          "text": [
            "70.0F is enough for room temperature.\n"
          ]
        }
      ]
    },
    {
      "cell_type": "code",
      "metadata": {
        "id": "x57ZYkxbQIg9"
      },
      "source": [
        "a = 10\n",
        "b = 3\n",
        "c = 1985\n",
        "age = 36\n"
      ],
      "execution_count": null,
      "outputs": []
    },
    {
      "cell_type": "code",
      "metadata": {
        "colab": {
          "base_uri": "https://localhost:8080/"
        },
        "id": "QTkIuWKki72j",
        "outputId": "645a49a9-06ed-4154-f699-12c65ced19cd"
      },
      "source": [
        "print(\"5\" + \"1\")\n"
      ],
      "execution_count": null,
      "outputs": [
        {
          "output_type": "stream",
          "name": "stdout",
          "text": [
            "51\n"
          ]
        }
      ]
    },
    {
      "cell_type": "code",
      "metadata": {
        "colab": {
          "base_uri": "https://localhost:8080/"
        },
        "id": "PuT5I-kYi7ry",
        "outputId": "0c6575cb-50d9-474e-b05d-b71f8af8f026"
      },
      "source": [
        "type(14)\n"
      ],
      "execution_count": null,
      "outputs": [
        {
          "output_type": "execute_result",
          "data": {
            "text/plain": [
              "int"
            ]
          },
          "metadata": {},
          "execution_count": 11
        }
      ]
    },
    {
      "cell_type": "code",
      "metadata": {
        "colab": {
          "base_uri": "https://localhost:8080/"
        },
        "id": "eh3A-WY0i7gK",
        "outputId": "429eb186-c161-4fa9-b81a-cd864432278b"
      },
      "source": [
        "number_int = 123\n",
        "number_str = \"456\"\n",
        "\n",
        "print(\"Data type of number_int:\", type(number_int))\n",
        "print(\"Data type of number_str before Type Casting:\", type(number_str))\n",
        "\n",
        "number_str = int(number_str)\n",
        "print(\"Data type of number_str after Type Casting:\", type(number_str))\n",
        "\n",
        "number_sum = number_int + number_str\n",
        "print(\"Sum of number_int and number_str:\", number_sum)\n",
        "print(\"Data type of the sum:\", type(number_sum))"
      ],
      "execution_count": null,
      "outputs": [
        {
          "output_type": "stream",
          "name": "stdout",
          "text": [
            "Data type of number_int: <class 'int'>\n",
            "Data type of number_str before Type Casting: <class 'str'>\n",
            "Data type of number_str after Type Casting: <class 'int'>\n",
            "Sum of number_int and number_str: 579\n",
            "Data type of the sum: <class 'int'>\n"
          ]
        }
      ]
    },
    {
      "cell_type": "markdown",
      "metadata": {
        "id": "P1BK4_qPU6q8"
      },
      "source": [
        ""
      ]
    },
    {
      "cell_type": "code",
      "metadata": {
        "id": "e78Crz4Wi7Vz",
        "colab": {
          "base_uri": "https://localhost:8080/"
        },
        "outputId": "20aa02ff-8fa2-4267-ee93-f98106697409"
      },
      "source": [
        "mycoin = 1000.0\n",
        "time = 7.0\n",
        "profit = 0.07\n",
        "\n",
        "# formula is v(1+p)**t\n",
        "\n",
        "mycoin*(float(1)+profit)**time"
      ],
      "execution_count": null,
      "outputs": [
        {
          "output_type": "execute_result",
          "data": {
            "text/plain": [
              "1605.7814764784307"
            ]
          },
          "metadata": {},
          "execution_count": 72
        }
      ]
    },
    {
      "cell_type": "code",
      "metadata": {
        "id": "ePwvQJ8Yi7Lz"
      },
      "source": [
        "a = 36.5\n",
        "b = '30'\n",
        "c = '3.5'\n",
        "d = 'F is enough for room temperature.'\n",
        "\n",
        "print(str(a+int(b)+float(c))+d)\n"
      ],
      "execution_count": null,
      "outputs": []
    },
    {
      "cell_type": "code",
      "metadata": {
        "id": "BdxCgaevi6uD",
        "colab": {
          "base_uri": "https://localhost:8080/"
        },
        "outputId": "7fe1148b-d492-40ed-8de6-790b5d6fb718"
      },
      "source": [
        "23%5 \n",
        "23//5"
      ],
      "execution_count": null,
      "outputs": [
        {
          "output_type": "execute_result",
          "data": {
            "text/plain": [
              "4"
            ]
          },
          "metadata": {},
          "execution_count": 9
        }
      ]
    },
    {
      "cell_type": "code",
      "metadata": {
        "colab": {
          "base_uri": "https://localhost:8080/"
        },
        "id": "uuk3lWQouBiI",
        "outputId": "234809b0-6f15-4eb2-e573-fbb0096e2e79"
      },
      "source": [
        "81-55"
      ],
      "execution_count": null,
      "outputs": [
        {
          "output_type": "execute_result",
          "data": {
            "text/plain": [
              "26"
            ]
          },
          "metadata": {},
          "execution_count": 31
        }
      ]
    },
    {
      "cell_type": "code",
      "metadata": {
        "colab": {
          "base_uri": "https://localhost:8080/"
        },
        "id": "I61_3LXsuCH6",
        "outputId": "4d552a59-611c-49a7-f1c2-6063e48cc590"
      },
      "source": [
        "3.14*(5**2)"
      ],
      "execution_count": null,
      "outputs": [
        {
          "output_type": "execute_result",
          "data": {
            "text/plain": [
              "78.5"
            ]
          },
          "metadata": {},
          "execution_count": 32
        }
      ]
    },
    {
      "cell_type": "code",
      "metadata": {
        "id": "_cs3R-FiuCTL"
      },
      "source": [
        "x = 2\n",
        "x +=3\n",
        "\n",
        "x *= 5"
      ],
      "execution_count": null,
      "outputs": []
    },
    {
      "cell_type": "code",
      "metadata": {
        "colab": {
          "base_uri": "https://localhost:8080/"
        },
        "id": "EAU443dFuCi8",
        "outputId": "5a840397-9ae2-439e-e364-c1b95414f66e"
      },
      "source": [
        "print((1+3) ** (2 ** (1 * 2 / 2) /2))"
      ],
      "execution_count": null,
      "outputs": [
        {
          "output_type": "stream",
          "name": "stdout",
          "text": [
            "4.0\n"
          ]
        }
      ]
    },
    {
      "cell_type": "code",
      "metadata": {
        "colab": {
          "base_uri": "https://localhost:8080/"
        },
        "id": "W2BLQ8087y3D",
        "outputId": "38425700-dd25-4382-abf2-ce03937e075f"
      },
      "source": [
        "a = 3\n",
        "b = 4 \n",
        "\n",
        "c = (a**2 + b**2)**0.5\n",
        "c"
      ],
      "execution_count": null,
      "outputs": [
        {
          "output_type": "execute_result",
          "data": {
            "text/plain": [
              "5.0"
            ]
          },
          "metadata": {},
          "execution_count": 41
        }
      ]
    },
    {
      "cell_type": "code",
      "metadata": {
        "colab": {
          "base_uri": "https://localhost:8080/"
        },
        "id": "7VeTTBQ09Rgk",
        "outputId": "48254dd6-f505-48f1-dc42-7807ffc84249"
      },
      "source": [
        "number = 2021\n",
        "text = \"we have reached\"\n",
        "print(text, number)"
      ],
      "execution_count": null,
      "outputs": [
        {
          "output_type": "stream",
          "name": "stdout",
          "text": [
            "we have reached 2021\n"
          ]
        }
      ]
    },
    {
      "cell_type": "code",
      "metadata": {
        "colab": {
          "base_uri": "https://localhost:8080/"
        },
        "id": "Qz2S_zs59RsR",
        "outputId": "27853506-1641-4b58-c4c9-5b91886bd198"
      },
      "source": [
        "print(\"Ali\", \"aslı\")\n",
        "print(\"Veli\", \"ayşe\")\n",
        "print(\"selvi\", \"baharat\", 44, number, mycoin, sep = \"   \")\n",
        "print(c, False, \"ahmet\", 3.14, sep =\"-\")"
      ],
      "execution_count": null,
      "outputs": [
        {
          "output_type": "stream",
          "name": "stdout",
          "text": [
            "Ali aslı\n",
            "Veli ayşe\n",
            "selvi   baharat   44   2021   1000.0\n",
            "5.0-False-ahmet-3.14\n"
          ]
        }
      ]
    },
    {
      "cell_type": "code",
      "metadata": {
        "colab": {
          "base_uri": "https://localhost:8080/"
        },
        "id": "L11q99UOASla",
        "outputId": "5d5b35da-2b62-4410-e2b6-bcaf25a697b1"
      },
      "source": [
        "print(\"ali\", end = \" \")\n",
        "print(\"veli\", \"ayşe\")"
      ],
      "execution_count": null,
      "outputs": [
        {
          "output_type": "stream",
          "name": "stdout",
          "text": [
            "ali veli ayşe\n"
          ]
        }
      ]
    },
    {
      "cell_type": "code",
      "metadata": {
        "colab": {
          "base_uri": "https://localhost:8080/"
        },
        "id": "8RxrMZhzBRy3",
        "outputId": "6cc2078c-6f99-4a9b-c876-e787008b5ebe"
      },
      "source": [
        "text1 = \"I bought\"\n",
        "text2 = \"kg. of apple this morning\"\n",
        "amount = 6\n",
        "text3 = text1 + \" \" + str(amount) + \" \" + text2\n",
        "print(text1, amount, text2)\n",
        "print(\"I bought\", 6, \"kg. of apple this morning\")\n",
        "print(\"I bought \" + \"6 \" + \"kg. of apple this morning\")\n",
        "print(text3)"
      ],
      "execution_count": null,
      "outputs": [
        {
          "output_type": "stream",
          "name": "stdout",
          "text": [
            "I bought 6 kg. of apple this morning\n",
            "I bought 6 kg. of apple this morning\n",
            "I bought 6 kg. of apple this morning\n",
            "I bought 6 kg. of apple this morning\n"
          ]
        }
      ]
    },
    {
      "cell_type": "code",
      "metadata": {
        "colab": {
          "base_uri": "https://localhost:8080/"
        },
        "id": "lXaP4B6iH2cq",
        "outputId": "9dcebb68-f1bd-4840-aa4a-32ddd7be757c"
      },
      "source": [
        "print('kul ahmet\\'in ceketi')"
      ],
      "execution_count": null,
      "outputs": [
        {
          "output_type": "stream",
          "name": "stdout",
          "text": [
            "kul ahmet'in ceketi\n"
          ]
        }
      ]
    },
    {
      "cell_type": "code",
      "metadata": {
        "colab": {
          "base_uri": "https://localhost:8080/"
        },
        "id": "5P2jief3ICOq",
        "outputId": "487841a5-969f-47d3-fd7d-1c5ade7ccbac"
      },
      "source": [
        "print('kul ahmet\\in ceketi')"
      ],
      "execution_count": null,
      "outputs": [
        {
          "output_type": "stream",
          "name": "stdout",
          "text": [
            "kul ahmet\\in ceketi\n"
          ]
        }
      ]
    },
    {
      "cell_type": "code",
      "metadata": {
        "colab": {
          "base_uri": "https://localhost:8080/"
        },
        "id": "r2paTWrJIR3k",
        "outputId": "1c5e9960-d287-4c45-faca-929fa731f48b"
      },
      "source": [
        "print('ayla\\\\nın çantası')"
      ],
      "execution_count": null,
      "outputs": [
        {
          "output_type": "stream",
          "name": "stdout",
          "text": [
            "ayla\\nın çantası\n"
          ]
        }
      ]
    },
    {
      "cell_type": "code",
      "metadata": {
        "colab": {
          "base_uri": "https://localhost:8080/"
        },
        "id": "H_3OJqkLIjS-",
        "outputId": "7afc94b1-c5b0-4eed-ee9f-bd8d4b0933d3"
      },
      "source": [
        "print('--------')"
      ],
      "execution_count": null,
      "outputs": [
        {
          "output_type": "stream",
          "name": "stdout",
          "text": [
            "--------\n"
          ]
        }
      ]
    },
    {
      "cell_type": "code",
      "metadata": {
        "colab": {
          "base_uri": "https://localhost:8080/"
        },
        "id": "3ceKv3dzJDRe",
        "outputId": "35099a09-694c-4294-e64b-3d5968c4272f"
      },
      "source": [
        "text = \"Clarusway, Clarusway, Clarusway, \\n \\t Clarusway, Clarusway, Clarusway, \\n \\t \\t Clarusway, Clarusway, Clarusway\"\n",
        "\n",
        "print(text)"
      ],
      "execution_count": null,
      "outputs": [
        {
          "output_type": "stream",
          "name": "stdout",
          "text": [
            "Clarusway, Clarusway, Clarusway, \n",
            " \t Clarusway, Clarusway, Clarusway, \n",
            " \t \t Clarusway, Clarusway, Clarusway\n"
          ]
        }
      ]
    },
    {
      "cell_type": "code",
      "metadata": {
        "colab": {
          "base_uri": "https://localhost:8080/"
        },
        "id": "EjhypIOzxCqL",
        "outputId": "f56d9bdc-7e9a-42c5-aa92-4e69716fd7e5"
      },
      "source": [
        "k = \"0123456789101112 1314 151617181920 212223242 52627282930\"\n",
        "\n",
        "print(k[::-5], (len(k)))"
      ],
      "execution_count": null,
      "outputs": [
        {
          "output_type": "stream",
          "name": "stdout",
          "text": [
            "025321642150 56\n"
          ]
        }
      ]
    },
    {
      "cell_type": "code",
      "metadata": {
        "colab": {
          "base_uri": "https://localhost:8080/"
        },
        "id": "9YSEpwZhxC2U",
        "outputId": "a7467480-6ebb-4699-e095-75ea443a347a"
      },
      "source": [
        "phrase = \"I have %s %s %d %s.\" % (12, \"apple\", 3, \"appricots\")\n",
        "\n",
        "print (phrase)"
      ],
      "execution_count": null,
      "outputs": [
        {
          "output_type": "stream",
          "name": "stdout",
          "text": [
            "I have 12 apple 3 appricots.\n"
          ]
        }
      ]
    },
    {
      "cell_type": "code",
      "metadata": {
        "colab": {
          "base_uri": "https://localhost:8080/"
        },
        "id": "_uqOaz0oxC9F",
        "outputId": "8ade3984-24d2-4ec9-a8d3-351828b930fb"
      },
      "source": [
        "print(\"{9} {7} {1} {10} {3} {2} {5} {8} {6} {0} {4}\".format('in', 'know', 'bring', 'to', 'students.', 'out', 'best', 'teachers', 'the', 'Good', 'how'))"
      ],
      "execution_count": null,
      "outputs": [
        {
          "output_type": "stream",
          "name": "stdout",
          "text": [
            "Good teachers know how to bring out the best in students.\n"
          ]
        }
      ]
    },
    {
      "cell_type": "code",
      "metadata": {
        "colab": {
          "base_uri": "https://localhost:8080/"
        },
        "id": "_w56TNHyLmxU",
        "outputId": "29e36e66-dbba-4d33-fb16-bf2cca68275b"
      },
      "source": [
        "bool(0)"
      ],
      "execution_count": null,
      "outputs": [
        {
          "output_type": "execute_result",
          "data": {
            "text/plain": [
              "False"
            ]
          },
          "metadata": {},
          "execution_count": 37
        }
      ]
    },
    {
      "cell_type": "code",
      "metadata": {
        "colab": {
          "base_uri": "https://localhost:8080/"
        },
        "id": "hlSnS_LAUTrq",
        "outputId": "45b9e62d-5e31-4dbd-aae7-c781945df088"
      },
      "source": [
        "print (2 and 3)"
      ],
      "execution_count": null,
      "outputs": [
        {
          "output_type": "stream",
          "name": "stdout",
          "text": [
            "3\n"
          ]
        }
      ]
    },
    {
      "cell_type": "code",
      "metadata": {
        "colab": {
          "base_uri": "https://localhost:8080/"
        },
        "id": "bEilGZYkVagN",
        "outputId": "ea5d1b7b-5a9a-4054-f73c-531f01bc6bf3"
      },
      "source": [
        "print(2 or 3)"
      ],
      "execution_count": null,
      "outputs": [
        {
          "output_type": "stream",
          "name": "stdout",
          "text": [
            "2\n"
          ]
        }
      ]
    },
    {
      "cell_type": "code",
      "metadata": {
        "colab": {
          "base_uri": "https://localhost:8080/"
        },
        "id": "ObGK9RAGYUdO",
        "outputId": "00cba6c6-75c2-483e-c7a8-130b66300e63"
      },
      "source": [
        "print ([ ] and 1) "
      ],
      "execution_count": null,
      "outputs": [
        {
          "output_type": "stream",
          "name": "stdout",
          "text": [
            "[]\n"
          ]
        }
      ]
    },
    {
      "cell_type": "code",
      "metadata": {
        "colab": {
          "base_uri": "https://localhost:8080/"
        },
        "id": "Kzvf9iryYlPB",
        "outputId": "53a46f0e-512a-4747-ba75-7b5bdc354098"
      },
      "source": [
        "print({0} or false)"
      ],
      "execution_count": null,
      "outputs": [
        {
          "output_type": "stream",
          "name": "stdout",
          "text": [
            "{0}\n"
          ]
        }
      ]
    },
    {
      "cell_type": "code",
      "metadata": {
        "colab": {
          "base_uri": "https://localhost:8080/"
        },
        "id": "gj2--xkWeDiU",
        "outputId": "85739aaa-19e9-4f23-b605-b25fd19b5c54"
      },
      "source": [
        "print(False or ([] and {0}))"
      ],
      "execution_count": null,
      "outputs": [
        {
          "output_type": "stream",
          "name": "stdout",
          "text": [
            "[]\n"
          ]
        }
      ]
    },
    {
      "cell_type": "code",
      "metadata": {
        "colab": {
          "base_uri": "https://localhost:8080/"
        },
        "id": "ky3r0gP9fDhM",
        "outputId": "427a97f2-74a3-4b60-c319-6609c54514ed"
      },
      "source": [
        "kadayıf = True\n",
        "# iç\n",
        "fındık = True\n",
        "fıstık = True\n",
        "ceviz = True\n",
        "\n",
        "# şerbet\n",
        "su = True\n",
        "şeker = True\n",
        "\n",
        "yumurta = True\n",
        "\n",
        "yedim = kadayıf and (fındık or fıstık or ceviz) and (su and şeker) and yumurta\n",
        "yedim"
      ],
      "execution_count": null,
      "outputs": [
        {
          "output_type": "execute_result",
          "data": {
            "text/plain": [
              "True"
            ]
          },
          "metadata": {},
          "execution_count": 51
        }
      ]
    },
    {
      "cell_type": "code",
      "metadata": {
        "colab": {
          "base_uri": "https://localhost:8080/"
        },
        "id": "KFB0HOgZghqY",
        "outputId": "4677d255-1a6d-48fc-eabd-19e8e2d50863"
      },
      "source": [
        "kadayıf = True\n",
        "\n",
        "# iç\n",
        "fındık = False\n",
        "fıstık = True\n",
        "ceviz = False\n",
        "\n",
        "# şerbet\n",
        "su = True\n",
        "şeker = True\n",
        "\n",
        "yumurta = True\n",
        "\n",
        "# içecek\n",
        "\n",
        "cay = True\n",
        "meşrubat = True\n",
        "limonata = True\n",
        "\n",
        "yedim = kadayıf and (fındık or fıstık or ceviz) and (su and şeker) and yumurta and (cay or meşrubat or limonata)\n",
        "yedim"
      ],
      "execution_count": null,
      "outputs": [
        {
          "output_type": "execute_result",
          "data": {
            "text/plain": [
              "True"
            ]
          },
          "metadata": {},
          "execution_count": 52
        }
      ]
    },
    {
      "cell_type": "code",
      "metadata": {
        "colab": {
          "base_uri": "https://localhost:8080/",
          "height": 35
        },
        "id": "1O_bVlD2ia11",
        "outputId": "16b99190-e651-46fa-bca8-6d8c683ae80f"
      },
      "source": [
        "\"orange\"[2:4]"
      ],
      "execution_count": null,
      "outputs": [
        {
          "output_type": "execute_result",
          "data": {
            "application/vnd.google.colaboratory.intrinsic+json": {
              "type": "string"
            },
            "text/plain": [
              "'an'"
            ]
          },
          "metadata": {},
          "execution_count": 55
        }
      ]
    },
    {
      "cell_type": "code",
      "metadata": {
        "colab": {
          "base_uri": "https://localhost:8080/",
          "height": 35
        },
        "id": "pl7OtQb4lC84",
        "outputId": "cf6c9303-84c0-4399-861e-61aab3907b27"
      },
      "source": [
        "\"orange\"[2:]"
      ],
      "execution_count": null,
      "outputs": [
        {
          "output_type": "execute_result",
          "data": {
            "application/vnd.google.colaboratory.intrinsic+json": {
              "type": "string"
            },
            "text/plain": [
              "'ange'"
            ]
          },
          "metadata": {},
          "execution_count": 58
        }
      ]
    },
    {
      "cell_type": "code",
      "metadata": {
        "colab": {
          "base_uri": "https://localhost:8080/",
          "height": 35
        },
        "id": "saiD3eWJyKFn",
        "outputId": "205f8875-eb38-4e67-e7af-5c55630b16dd"
      },
      "source": [
        "\"orange\"[::-1]"
      ],
      "execution_count": null,
      "outputs": [
        {
          "output_type": "execute_result",
          "data": {
            "application/vnd.google.colaboratory.intrinsic+json": {
              "type": "string"
            },
            "text/plain": [
              "'egnaro'"
            ]
          },
          "metadata": {},
          "execution_count": 59
        }
      ]
    },
    {
      "cell_type": "code",
      "metadata": {
        "colab": {
          "base_uri": "https://localhost:8080/",
          "height": 35
        },
        "id": "QhjaKoT6yUT-",
        "outputId": "43961bf8-1865-4a58-f809-113299b48347"
      },
      "source": [
        "kuş = \"phoenix\"\n",
        "kuş[1:4]"
      ],
      "execution_count": null,
      "outputs": [
        {
          "output_type": "execute_result",
          "data": {
            "application/vnd.google.colaboratory.intrinsic+json": {
              "type": "string"
            },
            "text/plain": [
              "'hoe'"
            ]
          },
          "metadata": {},
          "execution_count": 61
        }
      ]
    },
    {
      "cell_type": "code",
      "metadata": {
        "colab": {
          "base_uri": "https://localhost:8080/",
          "height": 35
        },
        "id": "c8RmUZwhya85",
        "outputId": "48e18c23-c889-4681-c5d0-02fa8e172080"
      },
      "source": [
        "kuş[-1]"
      ],
      "execution_count": null,
      "outputs": [
        {
          "output_type": "execute_result",
          "data": {
            "application/vnd.google.colaboratory.intrinsic+json": {
              "type": "string"
            },
            "text/plain": [
              "'x'"
            ]
          },
          "metadata": {},
          "execution_count": 62
        }
      ]
    },
    {
      "cell_type": "code",
      "metadata": {
        "colab": {
          "base_uri": "https://localhost:8080/",
          "height": 35
        },
        "id": "e-dLLFK5yinW",
        "outputId": "61b8a555-6b9f-460b-bcf4-afbf81e267e9"
      },
      "source": [
        "kuş[1:-3]"
      ],
      "execution_count": null,
      "outputs": [
        {
          "output_type": "execute_result",
          "data": {
            "application/vnd.google.colaboratory.intrinsic+json": {
              "type": "string"
            },
            "text/plain": [
              "'hoe'"
            ]
          },
          "metadata": {},
          "execution_count": 63
        }
      ]
    },
    {
      "cell_type": "code",
      "metadata": {
        "colab": {
          "base_uri": "https://localhost:8080/",
          "height": 35
        },
        "id": "WUyaKhOdyxfg",
        "outputId": "e87aedaf-5c08-4f27-d8fc-ac690ead2b12"
      },
      "source": [
        "\"orange\"[-3:-6:-1]"
      ],
      "execution_count": null,
      "outputs": [
        {
          "output_type": "execute_result",
          "data": {
            "application/vnd.google.colaboratory.intrinsic+json": {
              "type": "string"
            },
            "text/plain": [
              "'nar'"
            ]
          },
          "metadata": {},
          "execution_count": 66
        }
      ]
    },
    {
      "cell_type": "code",
      "metadata": {
        "colab": {
          "base_uri": "https://localhost:8080/",
          "height": 35
        },
        "id": "PPjpp7r6zBU_",
        "outputId": "eb17c161-a580-413f-c9c2-98abed825343"
      },
      "source": [
        "kuş[-6:-3]"
      ],
      "execution_count": null,
      "outputs": [
        {
          "output_type": "execute_result",
          "data": {
            "application/vnd.google.colaboratory.intrinsic+json": {
              "type": "string"
            },
            "text/plain": [
              "'hoe'"
            ]
          },
          "metadata": {},
          "execution_count": 67
        }
      ]
    },
    {
      "cell_type": "code",
      "metadata": {
        "colab": {
          "base_uri": "https://localhost:8080/",
          "height": 35
        },
        "id": "5SSHe8uUzcDg",
        "outputId": "0e1d770f-4481-408f-e3c3-f771fd720e73"
      },
      "source": [
        "kuş[-6:4]"
      ],
      "execution_count": null,
      "outputs": [
        {
          "output_type": "execute_result",
          "data": {
            "application/vnd.google.colaboratory.intrinsic+json": {
              "type": "string"
            },
            "text/plain": [
              "'hoe'"
            ]
          },
          "metadata": {},
          "execution_count": 68
        }
      ]
    },
    {
      "cell_type": "code",
      "metadata": {
        "colab": {
          "base_uri": "https://localhost:8080/",
          "height": 35
        },
        "id": "bmtCeBt6zfoH",
        "outputId": "041d0d23-d374-4693-88a1-e279620106e5"
      },
      "source": [
        "kuş[::-1]"
      ],
      "execution_count": null,
      "outputs": [
        {
          "output_type": "execute_result",
          "data": {
            "application/vnd.google.colaboratory.intrinsic+json": {
              "type": "string"
            },
            "text/plain": [
              "'xineohp'"
            ]
          },
          "metadata": {},
          "execution_count": 69
        }
      ]
    },
    {
      "cell_type": "code",
      "metadata": {
        "colab": {
          "base_uri": "https://localhost:8080/"
        },
        "id": "x0qwE2wcz2Oi",
        "outputId": "bc804bb3-3191-4543-bafc-9c2120f9758e"
      },
      "source": [
        "animal = \"hippopotamus\"\n",
        "len(animal)"
      ],
      "execution_count": null,
      "outputs": [
        {
          "output_type": "execute_result",
          "data": {
            "text/plain": [
              "12"
            ]
          },
          "metadata": {},
          "execution_count": 70
        }
      ]
    },
    {
      "cell_type": "code",
      "metadata": {
        "colab": {
          "base_uri": "https://localhost:8080/",
          "height": 35
        },
        "id": "jRExiOUQ1XYo",
        "outputId": "723c991c-f152-43fa-8673-f05bf89fe8dd"
      },
      "source": [
        "isim = \"clarusway okulu\"\n",
        "isim[3:7]\n"
      ],
      "execution_count": null,
      "outputs": [
        {
          "output_type": "execute_result",
          "data": {
            "application/vnd.google.colaboratory.intrinsic+json": {
              "type": "string"
            },
            "text/plain": [
              "'rusw'"
            ]
          },
          "metadata": {},
          "execution_count": 72
        }
      ]
    },
    {
      "cell_type": "code",
      "metadata": {
        "colab": {
          "base_uri": "https://localhost:8080/",
          "height": 35
        },
        "id": "pwTiVfQq1vZs",
        "outputId": "2eb8161c-3a25-4546-9535-0ca18068cded"
      },
      "source": [
        "isim[3:13]"
      ],
      "execution_count": null,
      "outputs": [
        {
          "output_type": "execute_result",
          "data": {
            "application/vnd.google.colaboratory.intrinsic+json": {
              "type": "string"
            },
            "text/plain": [
              "'rusway oku'"
            ]
          },
          "metadata": {},
          "execution_count": 74
        }
      ]
    },
    {
      "cell_type": "code",
      "metadata": {
        "colab": {
          "base_uri": "https://localhost:8080/",
          "height": 35
        },
        "id": "4EZH0MG412cj",
        "outputId": "c4f50e1d-1fd4-4b67-a872-864b356d0356"
      },
      "source": [
        "isim[::2]"
      ],
      "execution_count": null,
      "outputs": [
        {
          "output_type": "execute_result",
          "data": {
            "application/vnd.google.colaboratory.intrinsic+json": {
              "type": "string"
            },
            "text/plain": [
              "'cauwyouu'"
            ]
          },
          "metadata": {},
          "execution_count": 75
        }
      ]
    },
    {
      "cell_type": "code",
      "metadata": {
        "colab": {
          "base_uri": "https://localhost:8080/",
          "height": 35
        },
        "id": "YH2Mjo-F2K0H",
        "outputId": "3dbbda1f-2f61-4a92-f2db-2799e5c04e73"
      },
      "source": [
        "isim[::-2]"
      ],
      "execution_count": null,
      "outputs": [
        {
          "output_type": "execute_result",
          "data": {
            "application/vnd.google.colaboratory.intrinsic+json": {
              "type": "string"
            },
            "text/plain": [
              "'uuoywuac'"
            ]
          },
          "metadata": {},
          "execution_count": 76
        }
      ]
    },
    {
      "cell_type": "code",
      "metadata": {
        "colab": {
          "base_uri": "https://localhost:8080/",
          "height": 35
        },
        "id": "yFptVBbi2Pk5",
        "outputId": "b7adfeb8-27c4-4784-ca15-0a3489c38189"
      },
      "source": [
        "isim[::]"
      ],
      "execution_count": null,
      "outputs": [
        {
          "output_type": "execute_result",
          "data": {
            "application/vnd.google.colaboratory.intrinsic+json": {
              "type": "string"
            },
            "text/plain": [
              "'clarusway okulu'"
            ]
          },
          "metadata": {},
          "execution_count": 77
        }
      ]
    },
    {
      "cell_type": "code",
      "metadata": {
        "colab": {
          "base_uri": "https://localhost:8080/",
          "height": 35
        },
        "id": "5yJsB0IA2U1I",
        "outputId": "ab5dd202-ef40-4fb9-984c-06a5bab0ed86"
      },
      "source": [
        "isim[::-1]"
      ],
      "execution_count": null,
      "outputs": [
        {
          "output_type": "execute_result",
          "data": {
            "application/vnd.google.colaboratory.intrinsic+json": {
              "type": "string"
            },
            "text/plain": [
              "'uluko yawsuralc'"
            ]
          },
          "metadata": {},
          "execution_count": 78
        }
      ]
    },
    {
      "cell_type": "code",
      "metadata": {
        "colab": {
          "base_uri": "https://localhost:8080/",
          "height": 35
        },
        "id": "bjqsKQVv2YTc",
        "outputId": "b72960a7-0d04-4381-8dfa-8e68b67322b7"
      },
      "source": [
        "isim[3:7:-2]"
      ],
      "execution_count": null,
      "outputs": [
        {
          "output_type": "execute_result",
          "data": {
            "application/vnd.google.colaboratory.intrinsic+json": {
              "type": "string"
            },
            "text/plain": [
              "''"
            ]
          },
          "metadata": {},
          "execution_count": 79
        }
      ]
    },
    {
      "cell_type": "code",
      "metadata": {
        "colab": {
          "base_uri": "https://localhost:8080/",
          "height": 35
        },
        "id": "Q1FQ_wXQ2hfF",
        "outputId": "eeaf1eaf-61de-4b52-f693-f249e3de1fcb"
      },
      "source": [
        "isim[-12:10]"
      ],
      "execution_count": null,
      "outputs": [
        {
          "output_type": "execute_result",
          "data": {
            "application/vnd.google.colaboratory.intrinsic+json": {
              "type": "string"
            },
            "text/plain": [
              "'rusway '"
            ]
          },
          "metadata": {},
          "execution_count": 80
        }
      ]
    },
    {
      "cell_type": "code",
      "metadata": {
        "colab": {
          "base_uri": "https://localhost:8080/",
          "height": 35
        },
        "id": "6L7MlZlF2vho",
        "outputId": "9db01730-7b57-4bf1-9529-75e988650234"
      },
      "source": [
        "isim[-12:-5:-1]"
      ],
      "execution_count": null,
      "outputs": [
        {
          "output_type": "execute_result",
          "data": {
            "application/vnd.google.colaboratory.intrinsic+json": {
              "type": "string"
            },
            "text/plain": [
              "''"
            ]
          },
          "metadata": {},
          "execution_count": 81
        }
      ]
    },
    {
      "cell_type": "code",
      "metadata": {
        "colab": {
          "base_uri": "https://localhost:8080/",
          "height": 35
        },
        "id": "WPpO1M--26OY",
        "outputId": "35593e42-f5b8-47ee-9fa7-12be6bdf781d"
      },
      "source": [
        "isim[-2:-11:-1]"
      ],
      "execution_count": null,
      "outputs": [
        {
          "output_type": "execute_result",
          "data": {
            "application/vnd.google.colaboratory.intrinsic+json": {
              "type": "string"
            },
            "text/plain": [
              "'luko yaws'"
            ]
          },
          "metadata": {},
          "execution_count": 82
        }
      ]
    },
    {
      "cell_type": "code",
      "metadata": {
        "colab": {
          "base_uri": "https://localhost:8080/",
          "height": 35
        },
        "id": "9605nJjU3bsb",
        "outputId": "6586536c-820f-42e1-aecc-7530c11007ab"
      },
      "source": [
        "isim[-3:-11:-1]"
      ],
      "execution_count": null,
      "outputs": [
        {
          "output_type": "execute_result",
          "data": {
            "application/vnd.google.colaboratory.intrinsic+json": {
              "type": "string"
            },
            "text/plain": [
              "'uko yaws'"
            ]
          },
          "metadata": {},
          "execution_count": 83
        }
      ]
    },
    {
      "cell_type": "code",
      "metadata": {
        "colab": {
          "base_uri": "https://localhost:8080/",
          "height": 35
        },
        "id": "6wCLW5w43eo3",
        "outputId": "8b591845-0643-4d64-b658-4eeb64d39c0f"
      },
      "source": [
        "isim[12:6:-3]"
      ],
      "execution_count": null,
      "outputs": [
        {
          "output_type": "execute_result",
          "data": {
            "application/vnd.google.colaboratory.intrinsic+json": {
              "type": "string"
            },
            "text/plain": [
              "'u '"
            ]
          },
          "metadata": {},
          "execution_count": 86
        }
      ]
    },
    {
      "cell_type": "code",
      "metadata": {
        "id": "0Ysvt0KS3sxv",
        "colab": {
          "base_uri": "https://localhost:8080/"
        },
        "outputId": "90f5c728-7123-494f-b1dc-878075108c32"
      },
      "source": [
        "x, y, = 3, 4\n",
        "\n",
        "print(x**2-y**2)"
      ],
      "execution_count": null,
      "outputs": [
        {
          "output_type": "stream",
          "name": "stdout",
          "text": [
            "-7\n"
          ]
        }
      ]
    },
    {
      "cell_type": "code",
      "metadata": {
        "colab": {
          "base_uri": "https://localhost:8080/"
        },
        "id": "D84Ux8y-IpVl",
        "outputId": "b077a55b-6393-4ac6-83be-d6da96070e02"
      },
      "source": [
        "(x-y)*(x+y)"
      ],
      "execution_count": null,
      "outputs": [
        {
          "output_type": "execute_result",
          "data": {
            "text/plain": [
              "-7"
            ]
          },
          "metadata": {},
          "execution_count": 3
        }
      ]
    },
    {
      "cell_type": "code",
      "metadata": {
        "colab": {
          "base_uri": "https://localhost:8080/"
        },
        "id": "LR0VDjq5JoJ8",
        "outputId": "a80c2b03-9f5d-402a-d359-5aa9625a7eff"
      },
      "source": [
        "x = input (\"x\")\n",
        "y = input (\"y\")\n",
        "print(\"{}, {}\".format)\n",
        "\n",
        "x,y = y,x\n",
        "print(\"x =\",x,\"y =\",y)\n",
        "print(int(x)+int(y))"
      ],
      "execution_count": null,
      "outputs": [
        {
          "output_type": "stream",
          "name": "stdout",
          "text": [
            "x12\n",
            "y36\n",
            "<built-in method format of str object at 0x7fedcd999630>\n",
            "x = 36 y = 12\n",
            "48\n"
          ]
        }
      ]
    },
    {
      "cell_type": "code",
      "metadata": {
        "id": "stzUJi7wKHbx",
        "colab": {
          "base_uri": "https://localhost:8080/"
        },
        "outputId": "07034aa6-47b7-4bec-f970-985e0b49905b"
      },
      "source": [
        "not\" \""
      ],
      "execution_count": null,
      "outputs": [
        {
          "output_type": "execute_result",
          "data": {
            "text/plain": [
              "False"
            ]
          },
          "metadata": {},
          "execution_count": 4
        }
      ]
    },
    {
      "cell_type": "code",
      "metadata": {
        "colab": {
          "base_uri": "https://localhost:8080/"
        },
        "id": "Wp_pYVN-e0qm",
        "outputId": "13ca9c54-c593-4e10-dc15-00473695beaf"
      },
      "source": [
        "not \" \""
      ],
      "execution_count": null,
      "outputs": [
        {
          "output_type": "execute_result",
          "data": {
            "text/plain": [
              "False"
            ]
          },
          "metadata": {},
          "execution_count": 5
        }
      ]
    },
    {
      "cell_type": "code",
      "metadata": {
        "colab": {
          "base_uri": "https://localhost:8080/"
        },
        "id": "DcT123kOe3yS",
        "outputId": "88bc1427-46c7-4999-e232-b93a5ad50356"
      },
      "source": [
        "not \"\"\n"
      ],
      "execution_count": null,
      "outputs": [
        {
          "output_type": "execute_result",
          "data": {
            "text/plain": [
              "True"
            ]
          },
          "metadata": {},
          "execution_count": 6
        }
      ]
    },
    {
      "cell_type": "code",
      "metadata": {
        "colab": {
          "base_uri": "https://localhost:8080/"
        },
        "id": "heJ2oqCHe7qs",
        "outputId": "37baa1ac-4ebe-436c-a6fd-61c4b67c482c"
      },
      "source": [
        "phrase = \"myemailaddress@clarusway.com\"\n",
        "\n",
        "print(len(phrase))\n",
        "print(phrase.startswith(\"@\", 14))\n",
        "print(phrase.endswith(\".\", 15, 24))"
      ],
      "execution_count": null,
      "outputs": [
        {
          "output_type": "stream",
          "name": "stdout",
          "text": [
            "28\n",
            "True\n",
            "False\n"
          ]
        }
      ]
    },
    {
      "cell_type": "code",
      "metadata": {
        "id": "m-JTsicGfNCb",
        "colab": {
          "base_uri": "https://localhost:8080/",
          "height": 35
        },
        "outputId": "f1d69fde-2b0f-4acf-c0b1-2c1b794b0c93"
      },
      "source": [
        "\n",
        "\n",
        "phrase = \"myemailaddress@clarusway.com\"\n",
        "phrase.replace(\"@\",\"$\")"
      ],
      "execution_count": null,
      "outputs": [
        {
          "output_type": "execute_result",
          "data": {
            "application/vnd.google.colaboratory.intrinsic+json": {
              "type": "string"
            },
            "text/plain": [
              "'myemailaddress$clarusway.com'"
            ]
          },
          "metadata": {},
          "execution_count": 7
        }
      ]
    },
    {
      "cell_type": "code",
      "metadata": {
        "colab": {
          "base_uri": "https://localhost:8080/",
          "height": 35
        },
        "id": "O1wN98wlltKS",
        "outputId": "95cdb52f-b701-4df6-9a9f-5078b98b0d9c"
      },
      "source": [
        "\n",
        "\n",
        "\"myemailaddress@clarusway.com\".replace(\"my\",\"your\")"
      ],
      "execution_count": null,
      "outputs": [
        {
          "output_type": "execute_result",
          "data": {
            "application/vnd.google.colaboratory.intrinsic+json": {
              "type": "string"
            },
            "text/plain": [
              "'youremailaddress@clarusway.com'"
            ]
          },
          "metadata": {},
          "execution_count": 9
        }
      ]
    },
    {
      "cell_type": "code",
      "metadata": {
        "colab": {
          "base_uri": "https://localhost:8080/",
          "height": 35
        },
        "id": "ukgMY64Gmlu-",
        "outputId": "e59efb2c-b5e8-4f4e-f28f-a0bd065133a1"
      },
      "source": [
        "\"changes the first character of the string to the upper case and the rest to the lower case.\".title()"
      ],
      "execution_count": null,
      "outputs": [
        {
          "output_type": "execute_result",
          "data": {
            "application/vnd.google.colaboratory.intrinsic+json": {
              "type": "string"
            },
            "text/plain": [
              "'Changes The First Character Of The String To The Upper Case And The Rest To The Lower Case.'"
            ]
          },
          "metadata": {},
          "execution_count": 16
        }
      ]
    },
    {
      "cell_type": "code",
      "metadata": {
        "colab": {
          "base_uri": "https://localhost:8080/"
        },
        "id": "-fG23v34np4i",
        "outputId": "b664f89d-c4fd-4924-8dbe-6f352c3d7abb"
      },
      "source": [
        "source_string = \"initeroperabilitiyi\"\n",
        "print(source_string.strip(\"in\"))  \n",
        "# removes \"i\" or \"n\" or \"in\" or \"ni\" from the left side"
      ],
      "execution_count": null,
      "outputs": [
        {
          "output_type": "stream",
          "name": "stdout",
          "text": [
            "teroperabilitiy\n"
          ]
        }
      ]
    },
    {
      "cell_type": "code",
      "metadata": {
        "colab": {
          "base_uri": "https://localhost:8080/"
        },
        "id": "RrJuyxuqp58t",
        "outputId": "10c5c0a9-19c3-4d5e-aed1-c807b3794d87"
      },
      "source": [
        "print(* \"upper\")\n"
      ],
      "execution_count": null,
      "outputs": [
        {
          "output_type": "stream",
          "name": "stdout",
          "text": [
            "u p p e r\n"
          ]
        }
      ]
    },
    {
      "cell_type": "code",
      "metadata": {
        "colab": {
          "base_uri": "https://localhost:8080/"
        },
        "id": "xV45mw3qx3QO",
        "outputId": "776e7fe8-ef7e-4662-f6fb-8b8ec4e22fa5"
      },
      "source": [
        "print(* \"I am angry\")"
      ],
      "execution_count": null,
      "outputs": [
        {
          "output_type": "stream",
          "name": "stdout",
          "text": [
            "I   a m   a n g r y\n"
          ]
        }
      ]
    },
    {
      "cell_type": "code",
      "metadata": {
        "colab": {
          "base_uri": "https://localhost:8080/"
        },
        "id": "6zVeskaPyeNu",
        "outputId": "fd8933a6-ef5e-4cbc-873d-275e129813de"
      },
      "source": [
        "print(* \"1453\")"
      ],
      "execution_count": null,
      "outputs": [
        {
          "output_type": "stream",
          "name": "stdout",
          "text": [
            "1 4 5 3\n"
          ]
        }
      ]
    },
    {
      "cell_type": "code",
      "metadata": {
        "colab": {
          "base_uri": "https://localhost:8080/",
          "height": 35
        },
        "id": "JP_dzMzkymT7",
        "outputId": "d1f8b0cb-37f3-4e64-a227-dba4633849fc"
      },
      "source": [
        "cümlemiz = \"Python'u hayvan gibi öğreneceğim\"\n",
        "cümlemiz.replace(\"P\",\"p\")\n",
        "cümlemiz.upper()\n",
        "cümlemiz.swapcase()"
      ],
      "execution_count": null,
      "outputs": [
        {
          "output_type": "execute_result",
          "data": {
            "application/vnd.google.colaboratory.intrinsic+json": {
              "type": "string"
            },
            "text/plain": [
              "\"pYTHON'U HAYVAN GIBI ÖĞRENECEĞIM\""
            ]
          },
          "metadata": {},
          "execution_count": 32
        }
      ]
    },
    {
      "cell_type": "code",
      "metadata": {
        "colab": {
          "base_uri": "https://localhost:8080/"
        },
        "id": "W6U-Jie7z2eT",
        "outputId": "b4c6c133-ec3e-47d9-a965-76652304cda6"
      },
      "source": [
        "cümlemiz.endswith(\"ğim\")"
      ],
      "execution_count": null,
      "outputs": [
        {
          "output_type": "execute_result",
          "data": {
            "text/plain": [
              "True"
            ]
          },
          "metadata": {},
          "execution_count": 33
        }
      ]
    },
    {
      "cell_type": "code",
      "metadata": {
        "colab": {
          "base_uri": "https://localhost:8080/"
        },
        "id": "9SFzeoah0hkh",
        "outputId": "edeffa43-4b92-4643-974d-8dd8b7e094aa"
      },
      "source": [
        "cümlemiz.startswith(\"P\")"
      ],
      "execution_count": null,
      "outputs": [
        {
          "output_type": "execute_result",
          "data": {
            "text/plain": [
              "True"
            ]
          },
          "metadata": {},
          "execution_count": 34
        }
      ]
    },
    {
      "cell_type": "code",
      "metadata": {
        "colab": {
          "base_uri": "https://localhost:8080/"
        },
        "id": "tylqIkY00qnE",
        "outputId": "80b1f30a-358b-4dcb-bbdd-1e301f638b8a"
      },
      "source": [
        "cümlemiz.startswith(\"p\")"
      ],
      "execution_count": null,
      "outputs": [
        {
          "output_type": "execute_result",
          "data": {
            "text/plain": [
              "False"
            ]
          },
          "metadata": {},
          "execution_count": 36
        }
      ]
    },
    {
      "cell_type": "code",
      "metadata": {
        "colab": {
          "base_uri": "https://localhost:8080/",
          "height": 35
        },
        "id": "4aZi2O6m0u3X",
        "outputId": "b1d03b02-75e5-4541-b2aa-3e9c4fc5ccd3"
      },
      "source": [
        "cümlemiz.capitalize()"
      ],
      "execution_count": null,
      "outputs": [
        {
          "output_type": "execute_result",
          "data": {
            "application/vnd.google.colaboratory.intrinsic+json": {
              "type": "string"
            },
            "text/plain": [
              "\"Python'u hayvan gibi öğreneceğim\""
            ]
          },
          "metadata": {},
          "execution_count": 37
        }
      ]
    },
    {
      "cell_type": "code",
      "metadata": {
        "colab": {
          "base_uri": "https://localhost:8080/",
          "height": 35
        },
        "id": "W8JZq24E02jY",
        "outputId": "254091a4-8bb6-4c63-f5e4-f0013e5cb29b"
      },
      "source": [
        "zaman = \"6\"\n",
        "zaman_1 = \"ayda\"\n",
        "\n",
        "cümle = \"Python'u {} {} hayvan gibi öğreneceğim\"\n",
        "cümle.format(zaman, zaman_1,)"
      ],
      "execution_count": null,
      "outputs": [
        {
          "output_type": "execute_result",
          "data": {
            "application/vnd.google.colaboratory.intrinsic+json": {
              "type": "string"
            },
            "text/plain": [
              "\"Python'u 6 ayda hayvan gibi öğreneceğim\""
            ]
          },
          "metadata": {},
          "execution_count": 43
        }
      ]
    },
    {
      "cell_type": "code",
      "metadata": {
        "colab": {
          "base_uri": "https://localhost:8080/"
        },
        "id": "MDIId-N62ns5",
        "outputId": "dd92763e-0a65-463e-c172-ce503026096d"
      },
      "source": [
        "phrase = '{2} {3} {1} {0}'.format('circumstances', 'in all', 'generosity', 'wins')\n",
        "print(phrase)"
      ],
      "execution_count": null,
      "outputs": [
        {
          "output_type": "stream",
          "name": "stdout",
          "text": [
            "generosity wins in all circumstances\n"
          ]
        }
      ]
    },
    {
      "cell_type": "code",
      "metadata": {
        "colab": {
          "base_uri": "https://localhost:8080/"
        },
        "id": "CZdKcVkIAA1W",
        "outputId": "09e4bd50-3838-4577-ac3a-fe8593c82549"
      },
      "source": [
        "text = f\"ali veli {'seli'.replace('s', 'd')}\"\n",
        "print(text)"
      ],
      "execution_count": null,
      "outputs": [
        {
          "output_type": "stream",
          "name": "stdout",
          "text": [
            "ali veli deli\n"
          ]
        }
      ]
    },
    {
      "cell_type": "code",
      "metadata": {
        "colab": {
          "base_uri": "https://localhost:8080/"
        },
        "id": "rr_pRWmkCIbP",
        "outputId": "4924d5c2-72de-4657-9a4f-a34f86656f2a"
      },
      "source": [
        "sample = f'(2**3)'\n",
        "print(sample)"
      ],
      "execution_count": null,
      "outputs": [
        {
          "output_type": "stream",
          "name": "stdout",
          "text": [
            "(2**3)\n"
          ]
        }
      ]
    },
    {
      "cell_type": "code",
      "metadata": {
        "id": "g4DpbPFqCi0z"
      },
      "source": [
        ""
      ],
      "execution_count": null,
      "outputs": []
    },
    {
      "cell_type": "code",
      "metadata": {
        "colab": {
          "base_uri": "https://localhost:8080/"
        },
        "id": "q0H70rsmDTqc",
        "outputId": "1ace60f9-15fd-4743-d10d-5a43d5c97257"
      },
      "source": [
        "name = \"MARIAM\"\n",
        "output = f\"My name is {name.capitalize()}\"\n",
        "print(output)"
      ],
      "execution_count": null,
      "outputs": [
        {
          "output_type": "stream",
          "name": "stdout",
          "text": [
            "My name is Mariam\n"
          ]
        }
      ]
    },
    {
      "cell_type": "code",
      "metadata": {
        "colab": {
          "base_uri": "https://localhost:8080/"
        },
        "id": "pHldAQtWDz1u",
        "outputId": "720eb65a-ca32-44eb-db1e-dcadb2efc64f"
      },
      "source": [
        "name = \"Joseph\"\n",
        "job = \"teachers\"\n",
        "domain = \"Data Science\"\n",
        "message = (\n",
        "    f\"Hi {name}.\"\n",
        "    f\"You are the one of {job}.\"\n",
        "    f\"in the {domain} section.\"\n",
        ")\n",
        "print(message)"
      ],
      "execution_count": null,
      "outputs": [
        {
          "output_type": "stream",
          "name": "stdout",
          "text": [
            "Hi Joseph.You are the one of teachers.in the Data Science section.\n"
          ]
        }
      ]
    },
    {
      "cell_type": "code",
      "metadata": {
        "colab": {
          "base_uri": "https://localhost:8080/"
        },
        "id": "2tw06JduFXkk",
        "outputId": "2646a68a-061d-44c9-e617-68ba138f6df9"
      },
      "source": [
        "name = \"Susan\"\n",
        "age = \"a young lady\"\n",
        "status = \"student\"\n",
        "where = \"CLRWY IT univercity.\"\n",
        "message = (\n",
        "    f\"{name} is\"\n",
        "    f\" {age}\"\n",
        "    f\" and she is a {status}\"\n",
        "    f\" at the {where}\"\n",
        ")\n",
        "print(message)"
      ],
      "execution_count": null,
      "outputs": [
        {
          "output_type": "stream",
          "name": "stdout",
          "text": [
            "Susan is a young lady and she is a student at the CLRWY IT univercity.\n"
          ]
        }
      ]
    },
    {
      "cell_type": "code",
      "metadata": {
        "colab": {
          "base_uri": "https://localhost:8080/"
        },
        "id": "GRJqE8jLOUT4",
        "outputId": "cf62c419-b5cf-41f1-9392-e79a8f9658b1"
      },
      "source": [
        "para = 1000\n",
        "para = para + para * 0.07\n",
        "para"
      ],
      "execution_count": null,
      "outputs": [
        {
          "output_type": "execute_result",
          "data": {
            "text/plain": [
              "1070.0"
            ]
          },
          "metadata": {},
          "execution_count": 74
        }
      ]
    },
    {
      "cell_type": "code",
      "metadata": {
        "colab": {
          "base_uri": "https://localhost:8080/"
        },
        "id": "MK7t6GB3PNb6",
        "outputId": "aab5cae9-ec47-450f-a4df-ae3378bb7400"
      },
      "source": [
        "\n",
        "para = para + para * 0.07\n",
        "para"
      ],
      "execution_count": null,
      "outputs": [
        {
          "output_type": "execute_result",
          "data": {
            "text/plain": [
              "1144.9"
            ]
          },
          "metadata": {},
          "execution_count": 75
        }
      ]
    },
    {
      "cell_type": "code",
      "metadata": {
        "colab": {
          "base_uri": "https://localhost:8080/"
        },
        "id": "bgvorYS2Pv2a",
        "outputId": "e3216b7a-315f-4c13-b274-7d6aa8c7a653"
      },
      "source": [
        "para = para + para * 0.07\n",
        "para"
      ],
      "execution_count": null,
      "outputs": [
        {
          "output_type": "execute_result",
          "data": {
            "text/plain": [
              "1225.0430000000001"
            ]
          },
          "metadata": {},
          "execution_count": 76
        }
      ]
    },
    {
      "cell_type": "code",
      "metadata": {
        "colab": {
          "base_uri": "https://localhost:8080/"
        },
        "id": "LdNhfHcrPyON",
        "outputId": "dc0ccd10-56fd-49cf-9ecb-8737f0517d0e"
      },
      "source": [
        "para = para + para * 0.07\n",
        "para"
      ],
      "execution_count": null,
      "outputs": [
        {
          "output_type": "execute_result",
          "data": {
            "text/plain": [
              "1310.79601"
            ]
          },
          "metadata": {},
          "execution_count": 77
        }
      ]
    },
    {
      "cell_type": "code",
      "metadata": {
        "colab": {
          "base_uri": "https://localhost:8080/"
        },
        "id": "_7i2EbQUPzqK",
        "outputId": "2819c162-f640-490c-82fc-2dd3bdc699a6"
      },
      "source": [
        "para = para + para * 0.07\n",
        "para"
      ],
      "execution_count": null,
      "outputs": [
        {
          "output_type": "execute_result",
          "data": {
            "text/plain": [
              "1402.5517307"
            ]
          },
          "metadata": {},
          "execution_count": 78
        }
      ]
    },
    {
      "cell_type": "code",
      "metadata": {
        "colab": {
          "base_uri": "https://localhost:8080/"
        },
        "id": "i07dlkHFP1G7",
        "outputId": "d098c2a9-e72c-4506-bd1f-1b04941b0a39"
      },
      "source": [
        "para = para + para * 0.07\n",
        "para"
      ],
      "execution_count": null,
      "outputs": [
        {
          "output_type": "execute_result",
          "data": {
            "text/plain": [
              "1500.730351849"
            ]
          },
          "metadata": {},
          "execution_count": 79
        }
      ]
    },
    {
      "cell_type": "code",
      "metadata": {
        "colab": {
          "base_uri": "https://localhost:8080/"
        },
        "id": "oZ4jmtmIP2qx",
        "outputId": "1a2cb7b2-85bf-4455-9b2f-7b321708d44c"
      },
      "source": [
        "para = para + para * 0.07\n",
        "para"
      ],
      "execution_count": null,
      "outputs": [
        {
          "output_type": "execute_result",
          "data": {
            "text/plain": [
              "1605.78147647843"
            ]
          },
          "metadata": {},
          "execution_count": 80
        }
      ]
    },
    {
      "cell_type": "code",
      "metadata": {
        "colab": {
          "base_uri": "https://localhost:8080/"
        },
        "id": "hloPpn5fP4DS",
        "outputId": "28a350ab-6348-4545-b44b-0db357eb9b4a"
      },
      "source": [
        "mycoin = 1000.0\n",
        "time = 7.0\n",
        "profit = 0.07\n",
        "\n",
        "# formula is v(1+p)**t\n",
        "\n",
        "mycoin*(float(1)+profit)**time                                                         "
      ],
      "execution_count": null,
      "outputs": [
        {
          "output_type": "execute_result",
          "data": {
            "text/plain": [
              "1605.7814764784307"
            ]
          },
          "metadata": {},
          "execution_count": 81
        }
      ]
    },
    {
      "cell_type": "code",
      "metadata": {
        "colab": {
          "base_uri": "https://localhost:8080/"
        },
        "id": "iok1nBt5QKOP",
        "outputId": "e0c53143-b77f-4bb2-ef2d-cce56bb9f2bd"
      },
      "source": [
        "text = \"{}! I am a {}  programmer and I {} Clarusway.\".format(\"Hello\", \"new\", \"love\")\n",
        "print(text)\n"
      ],
      "execution_count": null,
      "outputs": [
        {
          "output_type": "stream",
          "name": "stdout",
          "text": [
            "Hello! I am a new  programmer and I love Clarusway.\n"
          ]
        }
      ]
    },
    {
      "cell_type": "code",
      "metadata": {
        "colab": {
          "base_uri": "https://localhost:8080/"
        },
        "id": "9qiS8CctXt5b",
        "outputId": "6a7a8eb4-95d3-4cd7-b605-dc0118702dff"
      },
      "source": [
        "city = \"SARAJEVO\"\n",
        "text = (\n",
        "    f\"I live in {city.capitalize()}\"\n",
        "    )\n",
        "print(text)"
      ],
      "execution_count": null,
      "outputs": [
        {
          "output_type": "stream",
          "name": "stdout",
          "text": [
            "I live in Sarajevo\n"
          ]
        }
      ]
    },
    {
      "cell_type": "code",
      "metadata": {
        "id": "zCQK6XEjXwCu"
      },
      "source": [
        "city = \"SARAJEVO\"\n",
        "text = (\n",
        "    f\"I live in {city.capitalize()}\"\n",
        "    )\n"
      ],
      "execution_count": null,
      "outputs": []
    },
    {
      "cell_type": "code",
      "metadata": {
        "colab": {
          "base_uri": "https://localhost:8080/"
        },
        "id": "aeqIdn-HUluJ",
        "outputId": "3469a441-6975-4085-b241-bd85f915e21e"
      },
      "source": [
        "left_h = \"q, w, e, r, t, a, s, d, f, g, z, x, c, v, b\"\n",
        "right_h = \"y, u, i, o, p, h, j, k, l, n, m\"\n",
        "word = set(input(\"Bir kelime giriniz \").lower())\n",
        "\n",
        "if word - set(left_h) == set() or word - set(right_h) == set() :\n",
        "  print(False)\n",
        "else:\n",
        "  print(True)"
      ],
      "execution_count": 1,
      "outputs": [
        {
          "output_type": "stream",
          "name": "stdout",
          "text": [
            "Bir kelime giriniz hasan\n",
            "True\n"
          ]
        }
      ]
    }
  ]
}