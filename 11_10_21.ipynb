{
  "nbformat": 4,
  "nbformat_minor": 0,
  "metadata": {
    "colab": {
      "name": "11.10.21.ipynb",
      "provenance": [],
      "authorship_tag": "ABX9TyOLHdaOkVXGq3kMPL43CstZ",
      "include_colab_link": true
    },
    "kernelspec": {
      "name": "python3",
      "display_name": "Python 3"
    },
    "language_info": {
      "name": "python"
    }
  },
  "cells": [
    {
      "cell_type": "markdown",
      "metadata": {
        "id": "view-in-github",
        "colab_type": "text"
      },
      "source": [
        "<a href=\"https://colab.research.google.com/github/EmrePrlk/EmrePrlk/blob/main/11_10_21.ipynb\" target=\"_parent\"><img src=\"https://colab.research.google.com/assets/colab-badge.svg\" alt=\"Open In Colab\"/></a>"
      ]
    },
    {
      "cell_type": "code",
      "metadata": {
        "id": "_jlM0fL1VDVq"
      },
      "source": [
        "ders = \"Main String Operations\"\n",
        "Immutability"
      ],
      "execution_count": null,
      "outputs": []
    },
    {
      "cell_type": "code",
      "metadata": {
        "colab": {
          "base_uri": "https://localhost:8080/"
        },
        "id": "lXn3hYrDYvha",
        "outputId": "4668cca0-7224-443d-97c3-076d9804f71a"
      },
      "source": [
        "text = \"clarusway\"\n",
        "text.startswith(\"u\", 4)"
      ],
      "execution_count": 2,
      "outputs": [
        {
          "output_type": "execute_result",
          "data": {
            "text/plain": [
              "True"
            ]
          },
          "metadata": {},
          "execution_count": 2
        }
      ]
    },
    {
      "cell_type": "code",
      "metadata": {
        "colab": {
          "base_uri": "https://localhost:8080/",
          "height": 35
        },
        "id": "HIvoXxUYZTxn",
        "outputId": "43a2ebfa-ff2c-4240-f04c-e1cd62270a99"
      },
      "source": [
        "ders = \"Main String Operations\"\n",
        "ders.replace(\"M\", \"m\")\n",
        "\n"
      ],
      "execution_count": 9,
      "outputs": [
        {
          "output_type": "execute_result",
          "data": {
            "application/vnd.google.colaboratory.intrinsic+json": {
              "type": "string"
            },
            "text/plain": [
              "'main String Operations'"
            ]
          },
          "metadata": {},
          "execution_count": 9
        }
      ]
    },
    {
      "cell_type": "code",
      "metadata": {
        "colab": {
          "base_uri": "https://localhost:8080/",
          "height": 35
        },
        "id": "Fx16PPLtbpFf",
        "outputId": "47aa4765-e816-4bec-93be-e47f8f1136f3"
      },
      "source": [
        "var_str = 'In God we Trust'\n",
        "\n",
        "var_str.lower()\n",
        "\n"
      ],
      "execution_count": 11,
      "outputs": [
        {
          "output_type": "execute_result",
          "data": {
            "application/vnd.google.colaboratory.intrinsic+json": {
              "type": "string"
            },
            "text/plain": [
              "'in god we trust'"
            ]
          },
          "metadata": {},
          "execution_count": 11
        }
      ]
    },
    {
      "cell_type": "code",
      "metadata": {
        "colab": {
          "base_uri": "https://localhost:8080/",
          "height": 35
        },
        "id": "2nCDMgnDhXqY",
        "outputId": "4f1e50ba-f2e3-4524-e37f-e78e101e5ba3"
      },
      "source": [
        "text = 'the better the family, the better the society'\n",
        "text.title()"
      ],
      "execution_count": 12,
      "outputs": [
        {
          "output_type": "execute_result",
          "data": {
            "application/vnd.google.colaboratory.intrinsic+json": {
              "type": "string"
            },
            "text/plain": [
              "'The Better The Family, The Better The Society'"
            ]
          },
          "metadata": {},
          "execution_count": 12
        }
      ]
    },
    {
      "cell_type": "code",
      "metadata": {
        "colab": {
          "base_uri": "https://localhost:8080/"
        },
        "id": "f-o6bzOojIFn",
        "outputId": "225089d0-0cfe-4cd3-d64e-12a0c3aaded7"
      },
      "source": [
        "text = \"S0d0me and G0m0re\"\n",
        "text = text.replace(\"0\",\"o\")\n",
        "print(text)\n"
      ],
      "execution_count": 14,
      "outputs": [
        {
          "output_type": "stream",
          "name": "stdout",
          "text": [
            "Sodome and Gomore\n"
          ]
        }
      ]
    },
    {
      "cell_type": "code",
      "metadata": {
        "id": "vPKeLEOvk-Ar"
      },
      "source": [
        ""
      ],
      "execution_count": null,
      "outputs": []
    }
  ]
}