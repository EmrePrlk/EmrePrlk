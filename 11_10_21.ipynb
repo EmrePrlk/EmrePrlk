{
  "nbformat": 4,
  "nbformat_minor": 0,
  "metadata": {
    "colab": {
      "name": "11.10.21.ipynb",
      "provenance": [],
      "authorship_tag": "ABX9TyMyUhLp3jsSo7NPVEWxN8ly",
      "include_colab_link": true
    },
    "kernelspec": {
      "name": "python3",
      "display_name": "Python 3"
    },
    "language_info": {
      "name": "python"
    }
  },
  "cells": [
    {
      "cell_type": "markdown",
      "metadata": {
        "id": "view-in-github",
        "colab_type": "text"
      },
      "source": [
        "<a href=\"https://colab.research.google.com/github/EmrePrlk/EmrePrlk/blob/main/11_10_21.ipynb\" target=\"_parent\"><img src=\"https://colab.research.google.com/assets/colab-badge.svg\" alt=\"Open In Colab\"/></a>"
      ]
    },
    {
      "cell_type": "code",
      "metadata": {
        "id": "_jlM0fL1VDVq"
      },
      "source": [
        "ders = \"Main String Operations\"\n",
        "Immutability"
      ],
      "execution_count": null,
      "outputs": []
    },
    {
      "cell_type": "code",
      "metadata": {
        "colab": {
          "base_uri": "https://localhost:8080/"
        },
        "id": "lXn3hYrDYvha",
        "outputId": "4668cca0-7224-443d-97c3-076d9804f71a"
      },
      "source": [
        "text = \"clarusway\"\n",
        "text.startswith(\"u\", 4)"
      ],
      "execution_count": null,
      "outputs": [
        {
          "output_type": "execute_result",
          "data": {
            "text/plain": [
              "True"
            ]
          },
          "metadata": {},
          "execution_count": 2
        }
      ]
    },
    {
      "cell_type": "code",
      "metadata": {
        "colab": {
          "base_uri": "https://localhost:8080/",
          "height": 35
        },
        "id": "HIvoXxUYZTxn",
        "outputId": "43a2ebfa-ff2c-4240-f04c-e1cd62270a99"
      },
      "source": [
        "ders = \"Main String Operations\"\n",
        "ders.replace(\"M\", \"m\")\n",
        "\n"
      ],
      "execution_count": null,
      "outputs": [
        {
          "output_type": "execute_result",
          "data": {
            "application/vnd.google.colaboratory.intrinsic+json": {
              "type": "string"
            },
            "text/plain": [
              "'main String Operations'"
            ]
          },
          "metadata": {},
          "execution_count": 9
        }
      ]
    },
    {
      "cell_type": "code",
      "metadata": {
        "colab": {
          "base_uri": "https://localhost:8080/",
          "height": 35
        },
        "id": "Fx16PPLtbpFf",
        "outputId": "47aa4765-e816-4bec-93be-e47f8f1136f3"
      },
      "source": [
        "var_str = 'In God we Trust'\n",
        "\n",
        "var_str.lower()\n",
        "\n"
      ],
      "execution_count": null,
      "outputs": [
        {
          "output_type": "execute_result",
          "data": {
            "application/vnd.google.colaboratory.intrinsic+json": {
              "type": "string"
            },
            "text/plain": [
              "'in god we trust'"
            ]
          },
          "metadata": {},
          "execution_count": 11
        }
      ]
    },
    {
      "cell_type": "code",
      "metadata": {
        "colab": {
          "base_uri": "https://localhost:8080/",
          "height": 35
        },
        "id": "2nCDMgnDhXqY",
        "outputId": "4f1e50ba-f2e3-4524-e37f-e78e101e5ba3"
      },
      "source": [
        "text = 'the better the family, the better the society'\n",
        "text.title()"
      ],
      "execution_count": null,
      "outputs": [
        {
          "output_type": "execute_result",
          "data": {
            "application/vnd.google.colaboratory.intrinsic+json": {
              "type": "string"
            },
            "text/plain": [
              "'The Better The Family, The Better The Society'"
            ]
          },
          "metadata": {},
          "execution_count": 12
        }
      ]
    },
    {
      "cell_type": "code",
      "metadata": {
        "colab": {
          "base_uri": "https://localhost:8080/"
        },
        "id": "f-o6bzOojIFn",
        "outputId": "225089d0-0cfe-4cd3-d64e-12a0c3aaded7"
      },
      "source": [
        "text = \"S0d0me and G0m0re\"\n",
        "text = text.replace(\"0\",\"o\")\n",
        "print(text)\n"
      ],
      "execution_count": null,
      "outputs": [
        {
          "output_type": "stream",
          "name": "stdout",
          "text": [
            "Sodome and Gomore\n"
          ]
        }
      ]
    },
    {
      "cell_type": "code",
      "metadata": {
        "colab": {
          "base_uri": "https://localhost:8080/",
          "height": 35
        },
        "id": "vPKeLEOvk-Ar",
        "outputId": "1a67e571-7e8d-44a7-85c1-f3a2339b2fbc"
      },
      "source": [
        "text = 'tyou can learn almost everything in preclassz'\n",
        "text.strip(\"tz\").upper()"
      ],
      "execution_count": null,
      "outputs": [
        {
          "output_type": "execute_result",
          "data": {
            "application/vnd.google.colaboratory.intrinsic+json": {
              "type": "string"
            },
            "text/plain": [
              "'YOU CAN LEARN ALMOST EVERYTHING IN PRECLASS'"
            ]
          },
          "metadata": {},
          "execution_count": 16
        }
      ]
    },
    {
      "cell_type": "code",
      "metadata": {
        "colab": {
          "base_uri": "https://localhost:8080/"
        },
        "id": "hMoQd73epwEl",
        "outputId": "2b20dd48-be09-4f43-89ec-092fb1904336"
      },
      "source": [
        "a = 1\n",
        "print(-a)"
      ],
      "execution_count": null,
      "outputs": [
        {
          "output_type": "stream",
          "name": "stdout",
          "text": [
            "-1\n"
          ]
        }
      ]
    },
    {
      "cell_type": "code",
      "metadata": {
        "colab": {
          "base_uri": "https://localhost:8080/"
        },
        "id": "2gA3MGvPqsgq",
        "outputId": "f1fd018f-d119-47bf-d81f-41b90ebe38e5"
      },
      "source": [
        "a =3\n",
        "b = 4\n",
        "print(\"The multiplication od {} x {} is : {}\".format(a, b, a*b))"
      ],
      "execution_count": null,
      "outputs": [
        {
          "output_type": "stream",
          "name": "stdout",
          "text": [
            "The multiplication od 3 x 4 is : 12\n"
          ]
        }
      ]
    },
    {
      "cell_type": "code",
      "metadata": {
        "colab": {
          "base_uri": "https://localhost:8080/",
          "height": 35
        },
        "id": "7UcNsT6tr1LC",
        "outputId": "2aeb6e66-2020-42c8-cc66-789cfd1f3dae"
      },
      "source": [
        "text = \"{:>10}\".format(\"test\")\n",
        "text"
      ],
      "execution_count": null,
      "outputs": [
        {
          "output_type": "execute_result",
          "data": {
            "application/vnd.google.colaboratory.intrinsic+json": {
              "type": "string"
            },
            "text/plain": [
              "'      test'"
            ]
          },
          "metadata": {},
          "execution_count": 22
        }
      ]
    },
    {
      "cell_type": "code",
      "metadata": {
        "colab": {
          "base_uri": "https://localhost:8080/",
          "height": 35
        },
        "id": "NnNiyXnH0Sf5",
        "outputId": "411e553e-afc0-4d87-8dd1-07f13a2d6f28"
      },
      "source": [
        "text = \"formatlama satırı {:>20} bu da textin son kısmı\".format(\"test\")\n",
        "text"
      ],
      "execution_count": null,
      "outputs": [
        {
          "output_type": "execute_result",
          "data": {
            "application/vnd.google.colaboratory.intrinsic+json": {
              "type": "string"
            },
            "text/plain": [
              "'formatlama satırı                 test bu da textin son kısmı'"
            ]
          },
          "metadata": {},
          "execution_count": 23
        }
      ]
    },
    {
      "cell_type": "code",
      "metadata": {
        "colab": {
          "base_uri": "https://localhost:8080/",
          "height": 35
        },
        "id": "0Snyn68c02rv",
        "outputId": "1ac519c3-7572-46ee-e032-c8248c33ed5d"
      },
      "source": [
        "text = \"bla bla {:<15} formatlama cümlesi\".format(\"ökkeş\")\n",
        "text\n"
      ],
      "execution_count": null,
      "outputs": [
        {
          "output_type": "execute_result",
          "data": {
            "application/vnd.google.colaboratory.intrinsic+json": {
              "type": "string"
            },
            "text/plain": [
              "'bla bla ökkeş           formatlama cümlesi'"
            ]
          },
          "metadata": {},
          "execution_count": 24
        }
      ]
    },
    {
      "cell_type": "code",
      "metadata": {
        "colab": {
          "base_uri": "https://localhost:8080/",
          "height": 35
        },
        "id": "9Xy9d_Z01WKH",
        "outputId": "a937fff9-fbae-47d1-f7de-9802dca4a3f2"
      },
      "source": [
        "text = \"{:^20}\".format(\"abc\")\n",
        "text"
      ],
      "execution_count": null,
      "outputs": [
        {
          "output_type": "execute_result",
          "data": {
            "application/vnd.google.colaboratory.intrinsic+json": {
              "type": "string"
            },
            "text/plain": [
              "'        abc         '"
            ]
          },
          "metadata": {},
          "execution_count": 25
        }
      ]
    },
    {
      "cell_type": "code",
      "metadata": {
        "colab": {
          "base_uri": "https://localhost:8080/",
          "height": 35
        },
        "id": "6dUnSqw51oXd",
        "outputId": "25888e38-ca1d-4379-db15-43fea428e6c2"
      },
      "source": [
        "\"{:^10.5}\".format(\"hippopotamus\")"
      ],
      "execution_count": null,
      "outputs": [
        {
          "output_type": "execute_result",
          "data": {
            "application/vnd.google.colaboratory.intrinsic+json": {
              "type": "string"
            },
            "text/plain": [
              "'  hippo   '"
            ]
          },
          "metadata": {},
          "execution_count": 32
        }
      ]
    },
    {
      "cell_type": "code",
      "metadata": {
        "colab": {
          "base_uri": "https://localhost:8080/",
          "height": 35
        },
        "id": "1837Izug2Ev9",
        "outputId": "20871046-8697-4b59-8bd7-a6abbc2eca49"
      },
      "source": [
        "\"{:+}\".format(55)"
      ],
      "execution_count": null,
      "outputs": [
        {
          "output_type": "execute_result",
          "data": {
            "application/vnd.google.colaboratory.intrinsic+json": {
              "type": "string"
            },
            "text/plain": [
              "'+55'"
            ]
          },
          "metadata": {},
          "execution_count": 33
        }
      ]
    },
    {
      "cell_type": "code",
      "metadata": {
        "id": "Es-HWgU62l5I"
      },
      "source": [
        "age = True\n",
        "chronic = True\n",
        "immune = True\n",
        "risk = age or chronic or immune\n"
      ],
      "execution_count": null,
      "outputs": []
    }
  ]
}